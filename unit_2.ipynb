{
 "cells": [
  {
   "cell_type": "code",
   "execution_count": 19,
   "metadata": {},
   "outputs": [],
   "source": [
    "# 2.2.9\n",
    "\n",
    "import simplecrypt\n",
    "with open(\"encrypted.bin\", \"rb\") as inp:\n",
    "    encrypted = inp.read()"
   ]
  },
  {
   "cell_type": "code",
   "execution_count": 20,
   "metadata": {},
   "outputs": [
    {
     "name": "stdout",
     "output_type": "stream",
     "text": [
      "<class 'bytes'>\n"
     ]
    },
    {
     "data": {
      "text/plain": [
       "b'sc\\x00\\x02\\x96\\x93^\\xd7&1\\x9f\\xd0\\x14\\x02\\x14\\xd1\\x92`\\xeb\\x1b\\xdbulr\\x0e\\xeb\\x0f\\xf0D\\xcf\\x87\\xf5\\xd5\\xf2oKA\\x89b/\\xaa\\xa6y;\\x8b)\\x89\\xbdl\\x0f\\x96\\x144\\x8e\\xe2P\\xa8\\xcf\\xc7T\\xf6>.`m\\xfbC/\\xc1V\\xd2>\\xd0\\xaf\\xbb0%V\\x14\\xac\\xf7\\n\\xcd'"
      ]
     },
     "execution_count": 20,
     "metadata": {},
     "output_type": "execute_result"
    }
   ],
   "source": [
    "print(type(encrypted))\n",
    "encrypted"
   ]
  },
  {
   "cell_type": "code",
   "execution_count": 32,
   "metadata": {},
   "outputs": [
    {
     "name": "stdout",
     "output_type": "stream",
     "text": [
      "9XB8nsIqRfYeswC\n",
      "Bad password or corrupt / modified data.\n",
      "4sEhUGLEZti9BiN\n",
      "Bad password or corrupt / modified data.\n",
      "bDjmT0NcIW8nzhb\n",
      "Bad password or corrupt / modified data.\n",
      "ZN6QQoMOO1ZQLUY\n",
      "Bad password or corrupt / modified data.\n",
      "RVrF2qdMpoq6Lib\n",
      "b'Alice loves Bob'\n",
      "tnnX7HH3vJ9Hiji\n",
      "Bad password or corrupt / modified data.\n",
      "C24TJYYkqekv40l\n",
      "Bad password or corrupt / modified data.\n",
      "B2ropluPaMAitzE\n",
      "Bad password or corrupt / modified data.\n",
      "DRezNUVnr2zC0CP\n",
      "Bad password or corrupt / modified data.\n",
      "XCNmpTvvZb1n3mX\n",
      "Bad password or corrupt / modified data.\n"
     ]
    }
   ],
   "source": [
    "with open(\"passwords.txt\", \"r\") as pass_f:\n",
    "    for p in pass_f.readlines():\n",
    "        print(p.strip())\n",
    "        try:\n",
    "            print(simplecrypt.decrypt(p.strip(), encrypted))\n",
    "        except simplecrypt.DecryptionException as e:\n",
    "            print(e)"
   ]
  },
  {
   "cell_type": "code",
   "execution_count": 2,
   "metadata": {},
   "outputs": [],
   "source": [
    "# 2.3.4\n",
    "\n",
    "class multifilter:\n",
    "    def judge_half(pos, neg):\n",
    "        return pos >= neg\n",
    "\n",
    "    def judge_any(pos, neg):\n",
    "        return pos >= 1\n",
    "\n",
    "    def judge_all(pos, neg):\n",
    "        return neg == 0\n",
    "\n",
    "    def __init__(self, iterable, *funcs, judge=judge_any):\n",
    "        self.unfiltered_iter = iter(iterable)\n",
    "        self.funcs = funcs\n",
    "        self.judge = judge\n",
    "        \n",
    "    def __next__(self):\n",
    "        while True:\n",
    "            n = next(self.unfiltered_iter)\n",
    "            pos, neg = 0, 0\n",
    "            for f in self.funcs:\n",
    "                if f(n):\n",
    "                    pos += 1\n",
    "                else:\n",
    "                    neg += 1\n",
    "            if self.judge(pos, neg):\n",
    "                return n\n",
    "\n",
    "    def __iter__(self):\n",
    "        return self"
   ]
  },
  {
   "cell_type": "code",
   "execution_count": 7,
   "metadata": {},
   "outputs": [
    {
     "data": {
      "text/plain": [
       "'1 7 11 13 17 19 23 29 31 37 41 43 47'"
      ]
     },
     "execution_count": 7,
     "metadata": {},
     "output_type": "execute_result"
    }
   ],
   "source": [
    "L = [i for i in range(49)]\n",
    "primes_ = multifilter(L, lambda x : x % 2 != 0, lambda x : x % 3 != 0, \n",
    "                      lambda x : x % 5 != 0, judge=multifilter.judge_all)\n",
    "' '.join(str(i) for i in primes_)"
   ]
  },
  {
   "cell_type": "code",
   "execution_count": 4,
   "metadata": {},
   "outputs": [
    {
     "data": {
      "text/plain": [
       "[1, 7, 11, 13, 17, 19, 23, 29, 31, 37, 41, 43, 47, 49]"
      ]
     },
     "execution_count": 4,
     "metadata": {},
     "output_type": "execute_result"
    }
   ],
   "source": [
    "L = [i for i in range(50)]\n",
    "list(multifilter(L, lambda x : x % 2 != 0, lambda x : x % 3 != 0, \n",
    "                 lambda x : x % 5 != 0, judge=multifilter.judge_all))"
   ]
  },
  {
   "cell_type": "code",
   "execution_count": 50,
   "metadata": {},
   "outputs": [],
   "source": [
    "# 2.3.5\n",
    "\n",
    "class primes:\n",
    "    def __init__(self):\n",
    "        self.primes = []\n",
    "        \n",
    "    def __next__(self):\n",
    "        if self.primes == []:\n",
    "            self.primes.append(2)\n",
    "            return 2\n",
    "        n = self.primes[-1]\n",
    "        is_prime = False\n",
    "        while not is_prime:\n",
    "            n += 1\n",
    "            is_prime = True\n",
    "            for p in self.primes:\n",
    "                if n % p == 0:\n",
    "                    is_prime = False\n",
    "                    break\n",
    "        self.primes.append(n)\n",
    "        return n\n",
    "        \n",
    "    def __iter__(self):\n",
    "        return self"
   ]
  },
  {
   "cell_type": "code",
   "execution_count": 51,
   "metadata": {},
   "outputs": [
    {
     "name": "stdout",
     "output_type": "stream",
     "text": [
      "2\n",
      "3\n",
      "5\n",
      "7\n",
      "11\n",
      "13\n",
      "17\n",
      "19\n",
      "23\n",
      "29\n",
      "31\n",
      "37\n",
      "41\n",
      "43\n",
      "47\n",
      "53\n",
      "59\n",
      "61\n",
      "67\n",
      "71\n",
      "73\n",
      "79\n",
      "83\n",
      "89\n",
      "97\n",
      "101\n",
      "103\n",
      "107\n",
      "109\n",
      "113\n"
     ]
    }
   ],
   "source": [
    "p = primes()\n",
    "for n in range(30):\n",
    "    print(next(p))"
   ]
  },
  {
   "cell_type": "code",
   "execution_count": 57,
   "metadata": {},
   "outputs": [],
   "source": [
    "# 2.4.4\n",
    "\n",
    "with open('dataset_24465_4.txt') as r, open('dataset_24465_4_reverse.txt', 'w') as w:\n",
    "    w.write(''.join(r.readlines()[::-1]))"
   ]
  },
  {
   "cell_type": "code",
   "execution_count": 73,
   "metadata": {},
   "outputs": [],
   "source": [
    "# 2.4.6\n",
    "\n",
    "import os\n",
    "L = [d[0] for d in filter(lambda x: any(s[-3:] == '.py' for s in x[2]), os.walk('main'))]\n",
    "with open('2.4.6_answer.txt', 'w') as f:\n",
    "    f.write('\\n'.join(sorted(L)))"
   ]
  },
  {
   "cell_type": "code",
   "execution_count": 88,
   "metadata": {},
   "outputs": [],
   "source": [
    "# 2.5.6\n",
    "\n",
    "def mod_checker(x, mod=0):\n",
    "    return (lambda y: y % x == mod)"
   ]
  },
  {
   "cell_type": "code",
   "execution_count": 89,
   "metadata": {},
   "outputs": [
    {
     "data": {
      "text/plain": [
       "True"
      ]
     },
     "execution_count": 89,
     "metadata": {},
     "output_type": "execute_result"
    }
   ],
   "source": [
    "mod_checker(3)(9)"
   ]
  },
  {
   "cell_type": "code",
   "execution_count": 101,
   "metadata": {},
   "outputs": [
    {
     "name": "stdout",
     "output_type": "stream",
     "text": [
      "1\n",
      "\n"
     ]
    }
   ],
   "source": [
    "s = input()\n",
    "print((s[:2] + s[-2:],'')[len(s)<2])"
   ]
  },
  {
   "cell_type": "code",
   "execution_count": 95,
   "metadata": {},
   "outputs": [
    {
     "data": {
      "text/plain": [
       "0"
      ]
     },
     "execution_count": 95,
     "metadata": {},
     "output_type": "execute_result"
    }
   ],
   "source": [
    "if len(s) < 2:\n",
    "    print('')\n",
    "else:\n",
    "    print(s[:2] + s[-2:])"
   ]
  }
 ],
 "metadata": {
  "kernelspec": {
   "display_name": "Python 3",
   "language": "python",
   "name": "python3"
  },
  "language_info": {
   "codemirror_mode": {
    "name": "ipython",
    "version": 3
   },
   "file_extension": ".py",
   "mimetype": "text/x-python",
   "name": "python",
   "nbconvert_exporter": "python",
   "pygments_lexer": "ipython3",
   "version": "3.7.4"
  }
 },
 "nbformat": 4,
 "nbformat_minor": 4
}
