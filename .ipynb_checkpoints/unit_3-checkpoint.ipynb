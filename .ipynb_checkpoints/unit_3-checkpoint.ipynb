{
 "cells": [
  {
   "cell_type": "code",
   "execution_count": 47,
   "metadata": {},
   "outputs": [],
   "source": [
    "# 3.2.6\n",
    "\n",
    "def find_all(s, p):\n",
    "    '''Yields all the positions of\n",
    "    the pattern p in the string s.'''\n",
    "    i = s.find(p)\n",
    "    while i != -1:\n",
    "        yield i\n",
    "        i = s.find(p, i + len(p))\n",
    "\n",
    "def _replace_all(s, old, new):\n",
    "    n = len(old)\n",
    "    j = 0\n",
    "    for i in find_all(s, old):\n",
    "        yield s[j:i] + new\n",
    "        j = i + n\n",
    "    yield s[j:]\n",
    "        \n",
    "def replace_all(s, old, new=''):\n",
    "    return ''.join(_replace_all(s, old, new))"
   ]
  },
  {
   "cell_type": "code",
   "execution_count": 51,
   "metadata": {},
   "outputs": [
    {
     "name": "stdout",
     "output_type": "stream",
     "text": [
      "abaca\n",
      "c\n",
      "c\n",
      "Impossible\n"
     ]
    }
   ],
   "source": [
    "s, old, new = input(), input(), input()\n",
    "count = 0\n",
    "while list(find_all(s, old)):\n",
    "    if count == 1000:\n",
    "        break\n",
    "    s = replace_all(s, old, new)\n",
    "    count += 1\n",
    "if count == 1000:\n",
    "    print('Impossible')\n",
    "else:\n",
    "    print(count)"
   ]
  },
  {
   "cell_type": "code",
   "execution_count": 55,
   "metadata": {},
   "outputs": [
    {
     "name": "stdout",
     "output_type": "stream",
     "text": [
      "aaa\n",
      "a\n",
      "3\n"
     ]
    }
   ],
   "source": [
    "# 3.2.7\n",
    "\n",
    "def find_all(s, p, overlap=False):\n",
    "    '''Yields all the positions of the pattern p in the string s.'''\n",
    "    if overlap:\n",
    "        delta = 1\n",
    "    else:\n",
    "        delta = len(p)\n",
    "        \n",
    "    i = s.find(p)\n",
    "    while i != -1:\n",
    "        yield i\n",
    "        i = s.find(p, i + delta)\n",
    "\n",
    "        \n",
    "print(len(list(find_all(input(), input(), True))))"
   ]
  },
  {
   "cell_type": "code",
   "execution_count": 60,
   "metadata": {},
   "outputs": [],
   "source": [
    "# 3.3.7\n",
    "\n",
    "import re\n",
    "import sys\n",
    "\n",
    "for line in sys.stdin:\n",
    "    line = line.rstrip()\n",
    "    if len(re.findall(r'cat', line)) > 1:\n",
    "        print(line)"
   ]
  },
  {
   "cell_type": "code",
   "execution_count": 71,
   "metadata": {},
   "outputs": [],
   "source": [
    "# 3.3.8\n",
    "\n",
    "import re\n",
    "import sys\n",
    "\n",
    "for line in sys.stdin:\n",
    "    line = line.rstrip()\n",
    "    if re.search(r'\\bcat\\b', line):\n",
    "        print(line)"
   ]
  },
  {
   "cell_type": "code",
   "execution_count": 72,
   "metadata": {},
   "outputs": [],
   "source": [
    "# 3.3.9\n",
    "\n",
    "import re\n",
    "import sys\n",
    "\n",
    "for line in sys.stdin:\n",
    "    line = line.rstrip()\n",
    "    if re.search(r'z...z', line):\n",
    "        print(line)"
   ]
  },
  {
   "cell_type": "code",
   "execution_count": 73,
   "metadata": {},
   "outputs": [],
   "source": [
    "# 3.3.10\n",
    "\n",
    "import re\n",
    "import sys\n",
    "\n",
    "for line in sys.stdin:\n",
    "    line = line.rstrip()\n",
    "    if re.search(r'\\\\', line):\n",
    "        print(line)"
   ]
  },
  {
   "cell_type": "code",
   "execution_count": 74,
   "metadata": {},
   "outputs": [],
   "source": [
    "# 3.3.11\n",
    "\n",
    "import re\n",
    "import sys\n",
    "\n",
    "for line in sys.stdin:\n",
    "    line = line.rstrip()\n",
    "    if re.search(r'\\b(\\w+)\\1\\b', line):\n",
    "        print(line)"
   ]
  },
  {
   "cell_type": "code",
   "execution_count": 76,
   "metadata": {},
   "outputs": [],
   "source": [
    "# 3.3.12\n",
    "\n",
    "import re\n",
    "import sys\n",
    "\n",
    "for line in sys.stdin:\n",
    "    line = line.rstrip()\n",
    "    print(re.sub(r'human', 'computer', line))"
   ]
  },
  {
   "cell_type": "code",
   "execution_count": 78,
   "metadata": {},
   "outputs": [],
   "source": [
    "# 3.3.13\n",
    "\n",
    "import re\n",
    "import sys\n",
    "\n",
    "for line in sys.stdin:\n",
    "    line = line.rstrip()\n",
    "    print(re.sub(r'\\b[Aa]+\\b', 'argh', line, 1))"
   ]
  },
  {
   "cell_type": "code",
   "execution_count": 91,
   "metadata": {},
   "outputs": [],
   "source": [
    "# 3.3.14\n",
    "\n",
    "import re\n",
    "import sys\n",
    "\n",
    "for line in sys.stdin:\n",
    "    line = line.rstrip()\n",
    "    print(re.sub(r'\\b(\\w)(\\w)', '\\g<2>\\g<1>', line))"
   ]
  },
  {
   "cell_type": "code",
   "execution_count": 95,
   "metadata": {},
   "outputs": [],
   "source": [
    "# 3.3.15\n",
    "\n",
    "import re\n",
    "import sys\n",
    "\n",
    "for line in sys.stdin:\n",
    "    line = line.rstrip()\n",
    "    print(re.sub(r'(\\w)(\\1)+', '\\g<1>', line))"
   ]
  },
  {
   "cell_type": "code",
   "execution_count": null,
   "metadata": {},
   "outputs": [],
   "source": []
  },
  {
   "cell_type": "code",
   "execution_count": null,
   "metadata": {},
   "outputs": [],
   "source": []
  },
  {
   "cell_type": "code",
   "execution_count": null,
   "metadata": {},
   "outputs": [],
   "source": []
  },
  {
   "cell_type": "code",
   "execution_count": 93,
   "metadata": {},
   "outputs": [],
   "source": [
    "# 3.3.16\n",
    "\n",
    "import re\n",
    "import sys\n",
    "\n",
    "for line in sys.stdin:\n",
    "    line = line.rstrip()\n",
    "    print(re.sub(r'\\b(\\w)(\\w)', '\\g<2>\\g<1>', line))"
   ]
  },
  {
   "cell_type": "code",
   "execution_count": 94,
   "metadata": {},
   "outputs": [
    {
     "name": "stdout",
     "output_type": "stream",
     "text": [
      "lineasdf1\n"
     ]
    }
   ],
   "source": [
    "print(re.sub(r'(\\w)(\\1)+', '\\g<1>', 'lineeeasdf11'))"
   ]
  }
 ],
 "metadata": {
  "kernelspec": {
   "display_name": "Python 3",
   "language": "python",
   "name": "python3"
  },
  "language_info": {
   "codemirror_mode": {
    "name": "ipython",
    "version": 3
   },
   "file_extension": ".py",
   "mimetype": "text/x-python",
   "name": "python",
   "nbconvert_exporter": "python",
   "pygments_lexer": "ipython3",
   "version": "3.7.4"
  }
 },
 "nbformat": 4,
 "nbformat_minor": 4
}
